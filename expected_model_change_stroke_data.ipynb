{
 "cells": [
  {
   "cell_type": "code",
   "execution_count": 1,
   "id": "96837f1e-90de-4c2c-93fa-a0b5d03a3fdc",
   "metadata": {
    "id": "71356a8e",
    "tags": []
   },
   "outputs": [],
   "source": [
    "import os\n",
    "import emc\n",
    "\n",
    "import logging \n",
    "import pdb\n",
    "\n",
    "import pandas as pd\n",
    "import numpy as np\n",
    "import matplotlib.pyplot as plt \n",
    "\n",
    "from sklearn import preprocessing \n",
    "\n",
    "from matplotlib.ticker import StrMethodFormatter"
   ]
  },
  {
   "cell_type": "code",
   "execution_count": 2,
   "id": "5059954e-d956-4a5c-a638-a3877c2e59f6",
   "metadata": {
    "tags": []
   },
   "outputs": [],
   "source": [
    "df = pd.read_csv('healthcare-dataset-stroke-data.csv')"
   ]
  },
  {
   "cell_type": "code",
   "execution_count": 3,
   "id": "c65af547-3215-4b00-908c-0ddab1ed94dd",
   "metadata": {
    "tags": []
   },
   "outputs": [
    {
     "data": {
      "text/html": [
       "<div>\n",
       "<style scoped>\n",
       "    .dataframe tbody tr th:only-of-type {\n",
       "        vertical-align: middle;\n",
       "    }\n",
       "\n",
       "    .dataframe tbody tr th {\n",
       "        vertical-align: top;\n",
       "    }\n",
       "\n",
       "    .dataframe thead th {\n",
       "        text-align: right;\n",
       "    }\n",
       "</style>\n",
       "<table border=\"1\" class=\"dataframe\">\n",
       "  <thead>\n",
       "    <tr style=\"text-align: right;\">\n",
       "      <th></th>\n",
       "      <th>id</th>\n",
       "      <th>gender</th>\n",
       "      <th>age</th>\n",
       "      <th>hypertension</th>\n",
       "      <th>heart_disease</th>\n",
       "      <th>ever_married</th>\n",
       "      <th>work_type</th>\n",
       "      <th>Residence_type</th>\n",
       "      <th>avg_glucose_level</th>\n",
       "      <th>bmi</th>\n",
       "      <th>smoking_status</th>\n",
       "      <th>stroke</th>\n",
       "    </tr>\n",
       "  </thead>\n",
       "  <tbody>\n",
       "    <tr>\n",
       "      <th>0</th>\n",
       "      <td>9046</td>\n",
       "      <td>Male</td>\n",
       "      <td>67.0</td>\n",
       "      <td>0</td>\n",
       "      <td>1</td>\n",
       "      <td>Yes</td>\n",
       "      <td>Private</td>\n",
       "      <td>Urban</td>\n",
       "      <td>228.69</td>\n",
       "      <td>36.6</td>\n",
       "      <td>formerly smoked</td>\n",
       "      <td>1</td>\n",
       "    </tr>\n",
       "    <tr>\n",
       "      <th>1</th>\n",
       "      <td>51676</td>\n",
       "      <td>Female</td>\n",
       "      <td>61.0</td>\n",
       "      <td>0</td>\n",
       "      <td>0</td>\n",
       "      <td>Yes</td>\n",
       "      <td>Self-employed</td>\n",
       "      <td>Rural</td>\n",
       "      <td>202.21</td>\n",
       "      <td>NaN</td>\n",
       "      <td>never smoked</td>\n",
       "      <td>1</td>\n",
       "    </tr>\n",
       "    <tr>\n",
       "      <th>2</th>\n",
       "      <td>31112</td>\n",
       "      <td>Male</td>\n",
       "      <td>80.0</td>\n",
       "      <td>0</td>\n",
       "      <td>1</td>\n",
       "      <td>Yes</td>\n",
       "      <td>Private</td>\n",
       "      <td>Rural</td>\n",
       "      <td>105.92</td>\n",
       "      <td>32.5</td>\n",
       "      <td>never smoked</td>\n",
       "      <td>1</td>\n",
       "    </tr>\n",
       "  </tbody>\n",
       "</table>\n",
       "</div>"
      ],
      "text/plain": [
       "      id  gender   age  hypertension  heart_disease ever_married  \\\n",
       "0   9046    Male  67.0             0              1          Yes   \n",
       "1  51676  Female  61.0             0              0          Yes   \n",
       "2  31112    Male  80.0             0              1          Yes   \n",
       "\n",
       "       work_type Residence_type  avg_glucose_level   bmi   smoking_status  \\\n",
       "0        Private          Urban             228.69  36.6  formerly smoked   \n",
       "1  Self-employed          Rural             202.21   NaN     never smoked   \n",
       "2        Private          Rural             105.92  32.5     never smoked   \n",
       "\n",
       "   stroke  \n",
       "0       1  \n",
       "1       1  \n",
       "2       1  "
      ]
     },
     "execution_count": 3,
     "metadata": {},
     "output_type": "execute_result"
    }
   ],
   "source": [
    "df.head(3)"
   ]
  },
  {
   "cell_type": "code",
   "execution_count": 4,
   "id": "a068a225-599c-448d-94f9-d871a616820c",
   "metadata": {
    "tags": []
   },
   "outputs": [
    {
     "data": {
      "text/plain": [
       "stroke\n",
       "0    4861\n",
       "1     249\n",
       "Name: count, dtype: int64"
      ]
     },
     "execution_count": 4,
     "metadata": {},
     "output_type": "execute_result"
    }
   ],
   "source": [
    "# Print label counts\n",
    "df['stroke'].value_counts()\n",
    "\n",
    "# Data label is imbalanced"
   ]
  },
  {
   "cell_type": "code",
   "execution_count": 5,
   "id": "386f1a12-b1c4-4483-844e-a6ad5ca9d7d2",
   "metadata": {
    "tags": []
   },
   "outputs": [],
   "source": [
    "# Fill in missing BMI data; use BMI means of each age quantile\n",
    "q1 = df['age'].quantile(0.25)\n",
    "q2 = df['age'].median()\n",
    "q3 = df['age'].quantile(0.75)\n",
    "\n",
    "q1_bmi = round(df[df['age']<=q1]['bmi'].mean(),1)\n",
    "q2_bmi = round(df[(df['age']>q1)&(df['age']<=q2)]['bmi'].mean(),1)\n",
    "q3_bmi = round(df[(df['age']>q2)&(df['age']<=q3)]['bmi'].mean(),1)\n",
    "q4_bmi = round(df[df['age']>q3]['bmi'].mean(),1)\n",
    "\n",
    "q1_bool_mask_sr = df[df['age']<=q1]['bmi'].isna()\n",
    "q1_idx = q1_bool_mask_sr[q1_bool_mask_sr].index\n",
    "df.loc[q1_idx,'bmi']=q1_bmi\n",
    "\n",
    "q2_bool_mask_sr = df[(df['age']>q1)&(df['age']<=q2)]['bmi'].isna()\n",
    "q2_idx = q2_bool_mask_sr[q2_bool_mask_sr].index\n",
    "df.loc[q2_idx,'bmi']=q2_bmi\n",
    "\n",
    "q3_bool_mask_sr = df[(df['age']>q2)&(df['age']<=q3)]['bmi'].isna()\n",
    "q3_idx = q3_bool_mask_sr[q3_bool_mask_sr].index\n",
    "df.loc[q3_idx,'bmi'] = q3_bmi\n",
    "\n",
    "q4_bool_mask_sr = df[df['age']>q3]['bmi'].isna()\n",
    "q4_idx = q4_bool_mask_sr[q4_bool_mask_sr].index\n",
    "df.loc[q4_idx,'bmi'] = q4_bmi"
   ]
  },
  {
   "cell_type": "markdown",
   "id": "ffebb7d0-ae7f-483e-b85d-09c1a071e7bb",
   "metadata": {
    "tags": []
   },
   "source": [
    "### Categorical data\n",
    "\n",
    "gender, ever_married, Residence_type => binary\n",
    "\n",
    "work_type => one-hot (Nominal)\n",
    "\n",
    "smoking_status => integer (Ordinal)"
   ]
  },
  {
   "cell_type": "code",
   "execution_count": 6,
   "id": "9b56b344-8eda-40e4-93d5-def7d3022cc7",
   "metadata": {
    "tags": []
   },
   "outputs": [],
   "source": [
    "# Drop single row with \"Other\" gender value\n",
    "df.drop(df[df['gender']=='Other'].index, inplace=True)"
   ]
  },
  {
   "cell_type": "code",
   "execution_count": 7,
   "id": "c6d51e2b-b349-472c-a8d2-8bf99e3fb45b",
   "metadata": {
    "tags": []
   },
   "outputs": [],
   "source": [
    "# Encode \"work_type\" column into one-hot\n",
    "wt_category = pd.Categorical(df['work_type'], categories=['Private','Self-employed','Govt_job','children','Never_worked'])\n",
    "\n",
    "# returns one-hot encoded df\n",
    "one_hot_encoded = pd.get_dummies(wt_category).astype(int)\n",
    "\n",
    "# Drop original work_type col\n",
    "no_wt_df = df.drop('work_type', axis=1)\n",
    "\n",
    "# Concatenate the one-hot encoded DataFrame with the original DataFrame\n",
    "numerical_df = pd.concat([no_wt_df.reset_index(drop=True), one_hot_encoded.reset_index(drop=True)], axis=1)\n",
    "\n",
    "# Put stroke label column at the last columns\n",
    "numerical_df = numerical_df[[c for c in numerical_df if c != 'stroke'] + [c for c in numerical_df if c == 'stroke']]\n",
    "\n",
    "# Convert binary labeled columns into 0/1\n",
    "numerical_df['gender'] = pd.factorize(numerical_df['gender'])[0]\n",
    "numerical_df['ever_married'] = pd.factorize(numerical_df['ever_married'])[0]\n",
    "numerical_df['Residence_type'] = pd.factorize(numerical_df['Residence_type'])[0]"
   ]
  },
  {
   "cell_type": "code",
   "execution_count": 8,
   "id": "0900b5aa-d202-45be-9316-133a22077e67",
   "metadata": {
    "tags": []
   },
   "outputs": [],
   "source": [
    "# Convert smoking status to int\n",
    "smoke_encoder = preprocessing.OrdinalEncoder(categories=[['never smoked','Unknown','formerly smoked','smokes']])\n",
    "\n",
    "# Fit and transform the ordinal data\n",
    "num_smoke_data = smoke_encoder.fit_transform(numerical_df['smoking_status'].values.reshape(-1,1))\n",
    "\n",
    "numerical_df['smoking_status']=num_smoke_data.astype(int)"
   ]
  },
  {
   "cell_type": "code",
   "execution_count": 9,
   "id": "f6844e68-7bf0-44da-9af3-9bdabd9c76d9",
   "metadata": {
    "tags": []
   },
   "outputs": [
    {
     "data": {
      "text/html": [
       "<div>\n",
       "<style scoped>\n",
       "    .dataframe tbody tr th:only-of-type {\n",
       "        vertical-align: middle;\n",
       "    }\n",
       "\n",
       "    .dataframe tbody tr th {\n",
       "        vertical-align: top;\n",
       "    }\n",
       "\n",
       "    .dataframe thead th {\n",
       "        text-align: right;\n",
       "    }\n",
       "</style>\n",
       "<table border=\"1\" class=\"dataframe\">\n",
       "  <thead>\n",
       "    <tr style=\"text-align: right;\">\n",
       "      <th></th>\n",
       "      <th>id</th>\n",
       "      <th>gender</th>\n",
       "      <th>age</th>\n",
       "      <th>hypertension</th>\n",
       "      <th>heart_disease</th>\n",
       "      <th>ever_married</th>\n",
       "      <th>Residence_type</th>\n",
       "      <th>avg_glucose_level</th>\n",
       "      <th>bmi</th>\n",
       "      <th>smoking_status</th>\n",
       "      <th>Private</th>\n",
       "      <th>Self-employed</th>\n",
       "      <th>Govt_job</th>\n",
       "      <th>children</th>\n",
       "      <th>Never_worked</th>\n",
       "      <th>stroke</th>\n",
       "    </tr>\n",
       "  </thead>\n",
       "  <tbody>\n",
       "    <tr>\n",
       "      <th>0</th>\n",
       "      <td>9046</td>\n",
       "      <td>0</td>\n",
       "      <td>67</td>\n",
       "      <td>0</td>\n",
       "      <td>1</td>\n",
       "      <td>0</td>\n",
       "      <td>0</td>\n",
       "      <td>228.69</td>\n",
       "      <td>36.6</td>\n",
       "      <td>2</td>\n",
       "      <td>1</td>\n",
       "      <td>0</td>\n",
       "      <td>0</td>\n",
       "      <td>0</td>\n",
       "      <td>0</td>\n",
       "      <td>1</td>\n",
       "    </tr>\n",
       "    <tr>\n",
       "      <th>1</th>\n",
       "      <td>51676</td>\n",
       "      <td>1</td>\n",
       "      <td>61</td>\n",
       "      <td>0</td>\n",
       "      <td>0</td>\n",
       "      <td>0</td>\n",
       "      <td>1</td>\n",
       "      <td>202.21</td>\n",
       "      <td>31.6</td>\n",
       "      <td>0</td>\n",
       "      <td>0</td>\n",
       "      <td>1</td>\n",
       "      <td>0</td>\n",
       "      <td>0</td>\n",
       "      <td>0</td>\n",
       "      <td>1</td>\n",
       "    </tr>\n",
       "    <tr>\n",
       "      <th>2</th>\n",
       "      <td>31112</td>\n",
       "      <td>0</td>\n",
       "      <td>80</td>\n",
       "      <td>0</td>\n",
       "      <td>1</td>\n",
       "      <td>0</td>\n",
       "      <td>1</td>\n",
       "      <td>105.92</td>\n",
       "      <td>32.5</td>\n",
       "      <td>0</td>\n",
       "      <td>1</td>\n",
       "      <td>0</td>\n",
       "      <td>0</td>\n",
       "      <td>0</td>\n",
       "      <td>0</td>\n",
       "      <td>1</td>\n",
       "    </tr>\n",
       "  </tbody>\n",
       "</table>\n",
       "</div>"
      ],
      "text/plain": [
       "      id  gender  age  hypertension  heart_disease  ever_married  \\\n",
       "0   9046       0   67             0              1             0   \n",
       "1  51676       1   61             0              0             0   \n",
       "2  31112       0   80             0              1             0   \n",
       "\n",
       "   Residence_type  avg_glucose_level   bmi  smoking_status  Private  \\\n",
       "0               0             228.69  36.6               2        1   \n",
       "1               1             202.21  31.6               0        0   \n",
       "2               1             105.92  32.5               0        1   \n",
       "\n",
       "   Self-employed  Govt_job  children  Never_worked  stroke  \n",
       "0              0         0         0             0       1  \n",
       "1              1         0         0             0       1  \n",
       "2              0         0         0             0       1  "
      ]
     },
     "execution_count": 9,
     "metadata": {},
     "output_type": "execute_result"
    }
   ],
   "source": [
    "numerical_df['age'] = numerical_df['age'].astype(int)\n",
    "numerical_df.head(3)"
   ]
  },
  {
   "cell_type": "code",
   "execution_count": 10,
   "id": "6ede223f-b6ec-4f0c-b337-13cf325879f0",
   "metadata": {
    "tags": []
   },
   "outputs": [],
   "source": [
    "# Extract id column as a list\n",
    "sample_id = numerical_df['id'].to_numpy()\n",
    "\n",
    "# Drop id column as they are not used in training the model\n",
    "numerical_df.drop(columns=['id'],inplace=True)"
   ]
  },
  {
   "cell_type": "code",
   "execution_count": 11,
   "id": "ced5396f-5db1-45b2-9430-5bea9494b4e7",
   "metadata": {
    "tags": []
   },
   "outputs": [],
   "source": [
    "# Get label out before normalization\n",
    "is_stroke = numerical_df['stroke'].values\n",
    "numerical_df.drop(columns=['stroke'],inplace=True)\n",
    "\n",
    "# Feature Normalization\n",
    "numerical_df['bmi'] =  np.log(numerical_df['bmi'])\n",
    "numerical_df['avg_glucose_level'] =  np.log(numerical_df['avg_glucose_level'])\n",
    "\n",
    "scaler = preprocessing.StandardScaler().fit(numerical_df)\n",
    "medical_data = scaler.transform(numerical_df)"
   ]
  },
  {
   "cell_type": "code",
   "execution_count": 12,
   "id": "1213bb93-07b6-45f4-84cf-c81c2118df34",
   "metadata": {
    "tags": []
   },
   "outputs": [
    {
     "name": "stdout",
     "output_type": "stream",
     "text": [
      "(5109, 14)\n",
      "(5109,)\n",
      "5109\n"
     ]
    }
   ],
   "source": [
    "print(medical_data.shape)\n",
    "print(is_stroke.shape)\n",
    "print(len(sample_id))"
   ]
  },
  {
   "cell_type": "markdown",
   "id": "5f9083d0",
   "metadata": {
    "id": "5f9083d0"
   },
   "source": [
    "## Splitting Imbalanced Data \n",
    "Our data is heavily imbalanced and it is important to balance the major and minor labels. \\\n",
    "Therefore, we do random oversampling of the minor class.\n"
   ]
  },
  {
   "cell_type": "code",
   "execution_count": 13,
   "id": "81818084",
   "metadata": {},
   "outputs": [
    {
     "name": "stdout",
     "output_type": "stream",
     "text": [
      "Input data's major & minor label ratio:\n",
      "4860 : 249 = 95.13% : 4.87%\n",
      "\n",
      "Test : Train\n",
      "1021 :  4088\n",
      "\n",
      "Train size before oversampling:  4088\n",
      "Train size after oversampling:  4128\n",
      "\n",
      "Resampled train data's major & minor label ratio:\n",
      "3888 : 240 = 94.19% : 5.81%\n",
      "\n",
      "Resampled data's test & train ratio:\n",
      "1021 : 4128 = 19.83% : 80.17%\n",
      "\n"
     ]
    }
   ],
   "source": [
    "# Testing split function: Without validation set & sample_id\n",
    "test_x, test_y, train_x, train_y = \\\n",
    "    emc.test_val_train_split_w_oversampling(medical_data, \n",
    "                                            is_stroke, \n",
    "                                            sample_id=None,\n",
    "                                            oversample_type='smote',\n",
    "                                            test_ratio=0.2,\n",
    "                                            train_minor_label_oversample_ratio=0.2)"
   ]
  },
  {
   "cell_type": "code",
   "execution_count": null,
   "id": "90fdb6c7",
   "metadata": {},
   "outputs": [
    {
     "name": "stdout",
     "output_type": "stream",
     "text": [
      "small data shape: (498, 14)\n",
      "small label shape: (498,)\n",
      "small sample id shape: 498\n"
     ]
    }
   ],
   "source": [
    "# Create small balanced undersampled dataset for testing\n",
    "\n",
    "major_label_idx_arr = np.where(is_stroke==0)[0]\n",
    "minor_label_idx_arr = np.where(is_stroke==1)[0]\n",
    "np.random.shuffle(major_label_idx_arr)\n",
    "\n",
    "# slice major label index array to the same length as minor label index array\n",
    "major_label_idx_arr = major_label_idx_arr[:len(minor_label_idx_arr)]\n",
    "\n",
    "assert len(major_label_idx_arr)== len(minor_label_idx_arr)\n",
    "\n",
    "small_medical_data = np.concatenate((medical_data[major_label_idx_arr], medical_data[minor_label_idx_arr]), axis=0)\n",
    "small_is_stroke = np.concatenate((is_stroke[major_label_idx_arr], is_stroke[minor_label_idx_arr]), axis=0)\n",
    "small_sample_id = np.concatenate((sample_id[major_label_idx_arr], sample_id[minor_label_idx_arr]), axis=0)\n",
    "\n",
    "assert len(small_medical_data)==len(small_is_stroke)\n",
    "\n",
    "print(f\"small data shape: {small_medical_data.shape}\\nsmall label shape: {small_is_stroke.shape}\\nsmall sample id shape: {len(small_sample_id)}\")"
   ]
  },
  {
   "cell_type": "markdown",
   "id": "c53e45ac-5505-4597-b625-1aba363d1540",
   "metadata": {},
   "source": [
    "### Set up results directory and logger  "
   ]
  },
  {
   "cell_type": "markdown",
   "id": "88801afb-078d-45d9-bf93-42668cce733d",
   "metadata": {},
   "source": [
    "### Model configuration"
   ]
  },
  {
   "cell_type": "code",
   "execution_count": 15,
   "id": "4558ef9e-0776-4a8a-946f-21173602f287",
   "metadata": {
    "tags": []
   },
   "outputs": [],
   "source": [
    "# Configuration for both EMC and random sampling models\n",
    "config={\n",
    "    \"emc_dir_path\":None,\n",
    "    \"rand_sampling_dir_path\":None,\n",
    "    \n",
    "    # number of emc or random sampling simulations to run\n",
    "    \"start_sim\":None, # if None, start simulation from the 0 to n_sim\n",
    "    \"n_sim\":10,\n",
    "    \n",
    "    # ratio [0.0,1.0] of samples to fit model before sampling\n",
    "    \"initial_train_ratio\":0.05,\n",
    "    \n",
    "    # 'ros' OR 'smote' \n",
    "    \"oversample_type\":'smote',                  \n",
    "    \n",
    "    # ratio [0.0,1.0] OR number of samples\n",
    "    \"test_ratio\":0.2,\n",
    "\n",
    "    # ratio [0.0,1.0] OR number of samples\n",
    "    \"train_minor_label_oversample_ratio\":0.2,\n",
    "    \n",
    "    \"log_freq\":20,\n",
    "    \"logger_rand_sampler\":None,\n",
    "    \"logger_emc\":None   \n",
    "}"
   ]
  },
  {
   "cell_type": "code",
   "execution_count": null,
   "id": "907311ea-0e28-46ab-a54a-b1fe404c123f",
   "metadata": {
    "tags": []
   },
   "outputs": [],
   "source": [
    "# Make new directory to store results\n",
    "\n",
    "# Set emc sampling results directory name\n",
    "emc_dir_path = emc.make_unique_file_or_dir_name(\"stroke_emc_res\")\n",
    "os.mkdir(emc_dir_path)\n",
    "\n",
    "# Set random sampling results directory name\n",
    "rand_sampling_dir_path = emc.make_unique_file_or_dir_name(\"stroke_rand_sampling_res\")\n",
    "os.mkdir(rand_sampling_dir_path)\n",
    "\n",
    "# Include paths in config\n",
    "config['emc_dir_path'] = emc_dir_path\n",
    "config['rand_sampling_dir_path'] = rand_sampling_dir_path"
   ]
  },
  {
   "cell_type": "code",
   "execution_count": null,
   "id": "00367476",
   "metadata": {},
   "outputs": [],
   "source": [
    "# Manually set directory paths\n",
    "\n",
    "# emc_dir_path=\"stroke_emc_res\"\n",
    "# rand_sampling_dir_path=\"stroke_rand_sampling_res\"\n",
    "# config['emc_dir_path'] = emc_dir_path\n",
    "# config['rand_sampling_dir_path'] = rand_sampling_dir_path\n"
   ]
  },
  {
   "cell_type": "code",
   "execution_count": 17,
   "id": "2bbd54bf-3e88-448d-b3f0-0f60aaa00512",
   "metadata": {
    "tags": []
   },
   "outputs": [],
   "source": [
    "# Set up logger for emc sampling simulation\n",
    "logger_emc = logging.getLogger(\"emc_logger\")\n",
    "logger_emc.setLevel(logging.INFO)\n",
    "\n",
    "# logger formatter\n",
    "emc_formatter = logging.Formatter('%(asctime)s %(message)s', datefmt='%Y-%m-%d %H:%M')\n",
    "emc_file_handler = logging.FileHandler(f\"{emc_dir_path}/emc.log\")\n",
    "emc_file_handler.setFormatter(emc_formatter)\n",
    "\n",
    "logger_emc.addHandler(emc_file_handler)"
   ]
  },
  {
   "cell_type": "code",
   "execution_count": 18,
   "id": "64850c9a-bc6e-48d1-b78e-ff83de59b1e4",
   "metadata": {
    "tags": []
   },
   "outputs": [],
   "source": [
    "# Set up logger for random sampling simulation\n",
    "logger_rand_sampler = logging.getLogger(\"rand_sampler_logger\")\n",
    "logger_rand_sampler.setLevel(logging.INFO)\n",
    "\n",
    "rand_formatter = logging.Formatter('%(asctime)s %(message)s', datefmt='%Y-%m-%d %H:%M')\n",
    "rand_file_handler = logging.FileHandler(f\"{rand_sampling_dir_path}/rand_sampling.log\")\n",
    "rand_file_handler.setFormatter(rand_formatter)\n",
    "\n",
    "logger_rand_sampler.addHandler(rand_file_handler)"
   ]
  },
  {
   "cell_type": "code",
   "execution_count": 19,
   "id": "d757b0e5-f3f4-4960-a3c8-08fe58a3a533",
   "metadata": {},
   "outputs": [],
   "source": [
    "logger_emc.propagate = False\n",
    "logger_rand_sampler.propagate = False\n",
    "\n",
    "# Add logger objects to config\n",
    "config['logger_emc']=logger_emc\n",
    "config['logger_rand_sampler']=logger_rand_sampler"
   ]
  },
  {
   "cell_type": "markdown",
   "id": "e3ca9dee",
   "metadata": {
    "id": "e3ca9dee"
   },
   "source": [
    "### Run Logistic Regression and Expected Model Change\n",
    "Logistic regression will be our base learner for this project."
   ]
  },
  {
   "cell_type": "code",
   "execution_count": null,
   "id": "HUMJymQOJJGX",
   "metadata": {
    "colab": {
     "base_uri": "https://localhost:8080/"
    },
    "id": "HUMJymQOJJGX",
    "outputId": "87213270-97e8-429c-9d1c-f670bda652b5",
    "tags": []
   },
   "outputs": [],
   "source": [
    "# EMC simulation on small test case data\n",
    "emc.run_l_simulations_emc(data_x=small_medical_data, \n",
    "                          label_y=small_is_stroke, \n",
    "                          sample_id=small_sample_id, \n",
    "                          **config)\n",
    "\n",
    "# EMC simulation on whole data\n",
    "# emc.run_l_simulations_emc(data_x=medical_data, label_y=is_stroke, sample_id=sample_id, **config)"
   ]
  },
  {
   "cell_type": "code",
   "execution_count": null,
   "id": "411631a6-3e70-404e-97c1-17f287e53165",
   "metadata": {
    "collapsed": true,
    "jupyter": {
     "outputs_hidden": true
    },
    "tags": []
   },
   "outputs": [],
   "source": [
    "# Random Sampling simulation on small test case data\n",
    "emc.run_n_simulations_random_sampling(data_x=small_medical_data, \n",
    "                                      label_y=small_is_stroke,\n",
    "                                      **config)\n",
    "\n",
    "# Random Sampling simulation on whole data\n",
    "# emc.run_n_simulations_random_sampling(a_x=medical_data, label_y=is_stroke, **config)"
   ]
  },
  {
   "cell_type": "code",
   "execution_count": 24,
   "id": "860a7763-6692-4cbb-8cfc-ee2def3b4eca",
   "metadata": {
    "tags": []
   },
   "outputs": [],
   "source": [
    "# Load EMC results\n",
    "n_sim_accuracy_ls, n_sim_precision_ls, n_sim_recall_ls = [],[],[]\n",
    "\n",
    "for i in range(config['n_sim']):\n",
    "    n_sim_accuracy_ls.append(np.load(f\"{config['emc_dir_path']}/{i}_sim_emc_accuracy.npy\"))\n",
    "    n_sim_precision_ls.append(np.load(f\"{config['emc_dir_path']}/{i}_sim_emc_precision.npy\"))\n",
    "    n_sim_recall_ls.append(np.load(f\"{config['emc_dir_path']}/{i}_sim_emc_recall.npy\"))"
   ]
  },
  {
   "cell_type": "code",
   "execution_count": 25,
   "id": "37971f8a-a842-4cac-b406-67dedb015ed3",
   "metadata": {
    "tags": []
   },
   "outputs": [],
   "source": [
    "# Load Random Sampling results\n",
    "n_sim_accuracy_random_ls, n_sim_precision_random_ls, n_sim_recall_random_ls = [],[],[]\n",
    "\n",
    "for i in range(config['n_sim']):\n",
    "    n_sim_accuracy_random_ls.append(np.load(f\"{config['rand_sampling_dir_path']}/{i}_sim_rand_sample_accuracy.npy\"))\n",
    "    n_sim_precision_random_ls.append(np.load(f\"{config['rand_sampling_dir_path']}/{i}_sim_rand_sample_precision.npy\"))\n",
    "    n_sim_recall_random_ls.append(np.load(f\"{config['rand_sampling_dir_path']}/{i}_sim_rand_sample_recall.npy\"))"
   ]
  },
  {
   "cell_type": "code",
   "execution_count": 40,
   "id": "dc61ef34-6c6e-413f-874d-0ee8518a10d4",
   "metadata": {
    "tags": []
   },
   "outputs": [
    {
     "data": {
      "image/png": "[encoded data removed]",
      "text/plain": [
       "<Figure size 500x400 with 1 Axes>"
      ]
     },
     "metadata": {},
     "output_type": "display_data"
    }
   ],
   "source": [
    "n_updates =  len(n_sim_accuracy_ls[0])\n",
    "\n",
    "plt.figure(figsize=(5,4))\n",
    "emc.plot_metrics(n_sim_accuracy_ls, n_updates, plot_separate_sim=False, color='red', label='emc query')\n",
    "emc.plot_metrics(n_sim_accuracy_random_ls, n_updates, plot_separate_sim=False, color='blue', label='random query')\n",
    "plt.title('Accuracy')\n",
    "plt.gca().yaxis.set_major_formatter(StrMethodFormatter('{x:,.2f}'))\n",
    "plt.show()"
   ]
  },
  {
   "cell_type": "code",
   "execution_count": 41,
   "id": "d17c50ac-1154-4a87-96f5-5b9b6a362081",
   "metadata": {
    "tags": []
   },
   "outputs": [
    {
     "data": {
      "image/png": "[encoded data removed]",
      "text/plain": [
       "<Figure size 500x400 with 1 Axes>"
      ]
     },
     "metadata": {},
     "output_type": "display_data"
    }
   ],
   "source": [
    "plt.figure(figsize=(5,4))\n",
    "emc.plot_metrics(n_sim_precision_ls, n_updates, plot_separate_sim=False, color='red', label='emc query')\n",
    "emc.plot_metrics(n_sim_precision_random_ls, n_updates, plot_separate_sim=False, color='blue', label='random query')\n",
    "plt.title('Precision')\n",
    "plt.gca().yaxis.set_major_formatter(StrMethodFormatter('{x:,.2f}'))\n",
    "plt.show()"
   ]
  },
  {
   "cell_type": "code",
   "execution_count": 42,
   "id": "857b6d82-e41a-4602-b61b-4f5ae4a8dcc8",
   "metadata": {
    "tags": []
   },
   "outputs": [
    {
     "data": {
      "image/png": "[encoded data removed]",
      "text/plain": [
       "<Figure size 500x400 with 1 Axes>"
      ]
     },
     "metadata": {},
     "output_type": "display_data"
    }
   ],
   "source": [
    "plt.figure(figsize=(5,4))\n",
    "emc.plot_metrics(n_sim_recall_ls, n_updates, plot_separate_sim=False, color='red', label='emc query')\n",
    "emc.plot_metrics(n_sim_recall_random_ls, n_updates, plot_separate_sim=False, color='blue', label='random query')\n",
    "plt.title('Recall')\n",
    "plt.gca().yaxis.set_major_formatter(StrMethodFormatter('{x:,.2f}'))\n",
    "plt.show()"
   ]
  },
  {
   "cell_type": "code",
   "execution_count": null,
   "id": "f895d44f",
   "metadata": {},
   "outputs": [
    {
     "name": "stdout",
     "output_type": "stream",
     "text": [
      "Input data's major & minor label ratio:\n",
      "249 : 249 = 50.0% : 50.0%\n",
      "\n",
      "Test : Train\n",
      "99 :  399\n",
      "\n",
      "Train size before oversampling:  399\n",
      "Train size after oversampling:  400\n",
      "\n",
      "Resampled train data's major & minor label ratio:\n",
      "200 : 200 = 50.0% : 50.0%\n",
      "\n",
      "Resampled data's test & train ratio:\n",
      "99 : 400 = 19.84% : 80.16%\n",
      "\n",
      "Model accuracy: 0.8\n",
      "Model precision: 0.81\n",
      "Model recall: 0.78\n"
     ]
    }
   ],
   "source": [
    "from sklearn.linear_model import LogisticRegression\n",
    "from sklearn.metrics import accuracy_score, precision_score, recall_score\n",
    "\n",
    "# Performance comparison to no-sampling model\n",
    "# Testing split function: Without validation set & sample_id\n",
    "test_x, test_y, train_x, train_y = \\\n",
    "    emc.test_val_train_split_w_oversampling(small_medical_data, \n",
    "                                            small_is_stroke, \n",
    "                                            sample_id=None,\n",
    "                                            oversample_type='smote',\n",
    "                                            test_ratio=0.2,\n",
    "                                            train_minor_label_oversample_ratio=0.2)\n",
    "\n",
    "model = LogisticRegression(max_iter=1000)\n",
    "model.fit(train_x, train_y)\n",
    "model_pred = model.predict(test_x)\n",
    "\n",
    "# Classification metrics\n",
    "model_accuracy = accuracy_score(test_y, model_pred)\n",
    "model_precision = precision_score(test_y, model_pred)\n",
    "model_recall = recall_score(test_y, model_pred)\n",
    "\n",
    "print(f\"Model accuracy: {round(model_accuracy,2)}\\nModel precision: {round(model_precision,2)}\\nModel recall: {round(model_recall,2)}\")"
   ]
  }
 ],
 "metadata": {
  "colab": {
   "provenance": [
    {
     "file_id": "1m7vLCLi8_ipyFsZTaW3luSGCkmHjIilj",
     "timestamp": 1681265672075
    }
   ]
  },
  "kernelspec": {
   "display_name": "basic",
   "language": "python",
   "name": "python3"
  },
  "language_info": {
   "codemirror_mode": {
    "name": "ipython",
    "version": 3
   },
   "file_extension": ".py",
   "mimetype": "text/x-python",
   "name": "python",
   "nbconvert_exporter": "python",
   "pygments_lexer": "ipython3",
   "version": "3.11.5"
  }
 },
 "nbformat": 4,
 "nbformat_minor": 5
}
