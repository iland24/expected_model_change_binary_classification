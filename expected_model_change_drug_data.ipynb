{
 "cells": [
  {
   "cell_type": "code",
   "execution_count": null,
   "id": "96837f1e-90de-4c2c-93fa-a0b5d03a3fdc",
   "metadata": {
    "id": "71356a8e",
    "tags": []
   },
   "outputs": [],
   "source": [
    "import os\n",
    "import requests\n",
    "import csv\n",
    "import logging \n",
    "\n",
    "import numpy as np\n",
    "import seaborn as sns\n",
    "import matplotlib.pyplot as plt\n",
    "\n",
    "import emc\n",
    "\n",
    "from rdkit import Chem\n",
    "from rdkit.Chem import RDKFingerprint\n",
    "from rdkit.Chem import rdMolDescriptors\n",
    "\n",
    "from matplotlib.ticker import StrMethodFormatter"
   ]
  },
  {
   "cell_type": "markdown",
   "id": "92069c95",
   "metadata": {
    "id": "92069c95"
   },
   "source": [
    "## EXTRACT DATA\n",
    "CSV file to be present in local machine.<br>\n",
    "FIle name is data.csv"
   ]
  },
  {
   "cell_type": "code",
   "execution_count": null,
   "id": "Sypt9ZsnLrW7",
   "metadata": {
    "colab": {
     "base_uri": "https://localhost:8080/"
    },
    "executionInfo": {
     "elapsed": 1843,
     "status": "ok",
     "timestamp": 1683271003656,
     "user": {
      "displayName": "Daniel Lee",
      "userId": "05387762087311196943"
     },
     "user_tz": -540
    },
    "id": "Sypt9ZsnLrW7",
    "outputId": "c3b34a19-1b52-4154-c5f0-cfee15d03838",
    "tags": []
   },
   "outputs": [],
   "source": [
    "# Downloading the data from the GitHub repository\n",
    "if os.path.exists(\"data.csv\"):\n",
    "    print(\"Data already downloaded, skipping download....\")\n",
    "else:\n",
    "    url = 'https://github.com/sriskid/hts_active_learning/raw/main/data.csv'\n",
    "    res = requests.get(url, allow_redirects=True)\n",
    "    with open('data.csv','wb') as f:\n",
    "        print(\"Downloading data....\")\n",
    "        f.write(res.content)"
   ]
  },
  {
   "cell_type": "code",
   "execution_count": null,
   "id": "1124863d",
   "metadata": {
    "colab": {
     "base_uri": "https://localhost:8080/"
    },
    "executionInfo": {
     "elapsed": 9,
     "status": "ok",
     "timestamp": 1683271003656,
     "user": {
      "displayName": "Daniel Lee",
      "userId": "05387762087311196943"
     },
     "user_tz": -540
    },
    "id": "1124863d",
    "outputId": "ce37da01-4f57-4741-dfbb-a94f3958a181",
    "tags": []
   },
   "outputs": [],
   "source": [
    "data = []\n",
    "with open('data.csv', 'r') as csvfile:\n",
    "    reader = csv.reader(csvfile, skipinitialspace=True)\n",
    "    # print(next(reader))\n",
    "    # data.append(tuple(next(reader))) # header\n",
    "    \n",
    "    for ID, SMILE, B, RES, is_active in reader:\n",
    "        data.append((ID, SMILE, B, RES, is_active)) #append data as tuple\n",
    "\n",
    "# remove header\n",
    "data = data[1:]\n",
    "maxlen = len(data)\n",
    "print('Number of entries processed: ', maxlen)"
   ]
  },
  {
   "cell_type": "code",
   "execution_count": null,
   "id": "rtLTNEcsTLZ3",
   "metadata": {
    "colab": {
     "base_uri": "https://localhost:8080/"
    },
    "executionInfo": {
     "elapsed": 8,
     "status": "ok",
     "timestamp": 1683271003657,
     "user": {
      "displayName": "Daniel Lee",
      "userId": "05387762087311196943"
     },
     "user_tz": -540
    },
    "id": "rtLTNEcsTLZ3",
    "outputId": "cecfd25c-c614-46d7-d774-28897c03dbe9",
    "tags": []
   },
   "outputs": [],
   "source": [
    "# ID, SMILE, B, RES, is_active\n",
    "data[0]"
   ]
  },
  {
   "cell_type": "markdown",
   "id": "9990ae5b",
   "metadata": {
    "id": "9990ae5b"
   },
   "source": [
    "## MOLECULAR FINGERPRINT ENCODING OF SMILES\n",
    "This will help in converting SMILES (Simplified molecular-input line-entry system) data so that it can be used for applying ML techniques. This is more often used (from surveying)<br>\n",
    "> Credit: https://towardsdatascience.com/basic-molecular-representation-for-machine-learning-b6be52e9ff76\n",
    "\n",
    "RDKfingerprint()<br>\n",
    "> Returns an RDKit topological fingerprint for a molecule<br>\n",
    "> doc: https://www.rdkit.org/docs/source/rdkit.Chem.rdmolops.html\n",
    "\n",
    "A fingerprint is a simplified, encoded representation of a molecule's structure that is used for various computational tasks, such as searching, comparing, and clustering molecules in large databases. The key idea behind a fingerprint is to convert the complex structure of a molecule into a fixed-size binary/bitstring vector. The conversion from a molecule to a fingerprint is irreversible.\n",
    "\n",
    "A topological fingerprint (also known as a path-based fingerprint) is a type of molecular fingerprint where each bit represents the presence of a particular atom sequence (paths) or bond pattern (substructures) within the molecule; the connectivity of molelcules. This fingerprint encodes the connectivity of atoms (i.e., the topological structure) without considering 3D spatial information."
   ]
  },
  {
   "cell_type": "code",
   "execution_count": null,
   "id": "f057162e",
   "metadata": {
    "colab": {
     "base_uri": "https://localhost:8080/",
     "height": 167
    },
    "executionInfo": {
     "elapsed": 8,
     "status": "ok",
     "timestamp": 1683271004859,
     "user": {
      "displayName": "Daniel Lee",
      "userId": "05387762087311196943"
     },
     "user_tz": -540
    },
    "id": "f057162e",
    "outputId": "b9cbd879-5867-4498-ffc1-20b8fab960b3",
    "scrolled": true,
    "tags": []
   },
   "outputs": [],
   "source": [
    "# Drawing molecules\n",
    "mol = Chem.MolFromSmiles(data[5][1])\n",
    "mol"
   ]
  },
  {
   "cell_type": "code",
   "execution_count": null,
   "id": "7f5f6536",
   "metadata": {
    "colab": {
     "base_uri": "https://localhost:8080/"
    },
    "executionInfo": {
     "elapsed": 130613,
     "status": "ok",
     "timestamp": 1683271135465,
     "user": {
      "displayName": "Daniel Lee",
      "userId": "05387762087311196943"
     },
     "user_tz": -540
    },
    "id": "7f5f6536",
    "outputId": "34780bb1-3505-4a6a-fa7a-b15dfaa37ce5",
    "tags": []
   },
   "outputs": [],
   "source": [
    "# We will be using RDK fingerprint to vectorize all our SMILES structures\n",
    "fingerprints = []\n",
    "for i in range(len(data)):\n",
    "    mol = Chem.MolFromSmiles(data[i][1])\n",
    "    fingerprint_rdk = np.array(RDKFingerprint(mol))\n",
    "    fingerprints.append(fingerprint_rdk)\n",
    "    \n",
    "fingerprints = np.array(fingerprints)\n",
    "fingerprints"
   ]
  },
  {
   "cell_type": "code",
   "execution_count": null,
   "id": "0cb2c833-62c4-44a2-9fc5-8ea7bbd5c924",
   "metadata": {
    "tags": []
   },
   "outputs": [],
   "source": [
    "fingerprints[0].shape"
   ]
  },
  {
   "cell_type": "markdown",
   "id": "98ff12f0",
   "metadata": {
    "id": "98ff12f0"
   },
   "source": [
    "## VISUALIZATION OF DATA\n",
    "Data is obtained from the following paper - https://doi.org/10.1371/journal.pcbi.1010613 <br>\n",
    "In this paper, they conducted a series of HTS to obtain the Average B-score and residual values for a series of small molecules to see their potency against Burkholderia cenocepacia.<br>\n",
    "Quoting the paper,<br>\n",
    "\n",
    "\"The dataset used in the ML approach consisted of 29,537 compounds with residual growth (RG) values and average B-scores. The RG measures the ratio of bacterial growth in the presence and absence of the compounds. The B-score measures relative potency that adjusts the RG for any screening artifacts resulting from well position (row and column) in the assay plate during the HTS. The B-score is inversely proportional to compound potency, where negative B-scores indicate greater growth inhibitory activity of the compounds. To binarize the compounds, the previously established average B-score threshold of -17.5 was chosen [https://doi.org/10.1371/journal.pone.0128587]. Overall, 256 small molecules were classified as growth inhibitory.\"\n",
    "\n",
    "Staying true to the essence of the paper, we will be setting a threshold of -17.5 for B-score in our data as well, i.e. below this threshold, the compound is labeled active, and otherwise inactive."
   ]
  },
  {
   "cell_type": "code",
   "execution_count": null,
   "id": "07e003d7",
   "metadata": {
    "colab": {
     "base_uri": "https://localhost:8080/"
    },
    "executionInfo": {
     "elapsed": 15,
     "status": "ok",
     "timestamp": 1683271135466,
     "user": {
      "displayName": "Daniel Lee",
      "userId": "05387762087311196943"
     },
     "user_tz": -540
    },
    "id": "07e003d7",
    "outputId": "3dc19e2c-8241-4021-e011-850abdd6fd45",
    "tags": []
   },
   "outputs": [],
   "source": [
    "# Checking data for number of active compounds\n",
    "# idx - ID, SMILE, B, RES, is_active\n",
    "count = 0\n",
    "for i in range(len(data)):\n",
    "    if float(data[i][2]) <= -17.5:\n",
    "        if float(data[i][4]) == 1:\n",
    "            count += 1\n",
    "print(\"Number of active compounds =\",count)\n",
    "# This follows what is mentioned in the paper."
   ]
  },
  {
   "cell_type": "code",
   "execution_count": null,
   "id": "be435398",
   "metadata": {
    "id": "be435398",
    "tags": []
   },
   "outputs": [],
   "source": [
    "# Get the B-score values and labels\n",
    "Bscores = []\n",
    "active = []\n",
    "is_active = []\n",
    "sample_ids = []\n",
    "\n",
    "for i in range(len(data)):\n",
    "    Bscores.append(float(data[i][2]))\n",
    "\n",
    "    is_active.append(int(data[i][4]))\n",
    "    sample_ids.append(data[i][0])\n",
    "\n",
    "    if float(data[i][4]) == 0:\n",
    "        active.append(\"Inactive\")\n",
    "    else:\n",
    "         active.append(\"Active\")\n",
    "\n",
    "compound_idx = np.arange(len(Bscores))\n",
    "is_active = np.array(is_active)\n",
    "sample_ids = np.array(sample_ids)"
   ]
  },
  {
   "cell_type": "code",
   "execution_count": null,
   "id": "f3a3ab9c",
   "metadata": {
    "colab": {
     "base_uri": "https://localhost:8080/",
     "height": 467
    },
    "executionInfo": {
     "elapsed": 1665,
     "status": "ok",
     "timestamp": 1683271137129,
     "user": {
      "displayName": "Daniel Lee",
      "userId": "05387762087311196943"
     },
     "user_tz": -540
    },
    "id": "f3a3ab9c",
    "outputId": "fc5d4d10-3959-450e-a18d-89e6ffa57aed",
    "tags": []
   },
   "outputs": [],
   "source": [
    "# Visualizing data\n",
    "# Plot B-scores\n",
    "\n",
    "fig, ax = plt.subplots()\n",
    "# plt.scatter(compound_idx[0:100], Bscores[0:100], c =\"blue\")\n",
    "sns.set(style='whitegrid')\n",
    "sns.scatterplot(x=compound_idx,\n",
    "                    y=Bscores,\n",
    "                    hue=active, marker='+')\n",
    "\n",
    "# ax.set_ylim(-500, 100)\n",
    "ax.set(xlabel='Compound Index', ylabel='B-Score')"
   ]
  },
  {
   "cell_type": "code",
   "execution_count": null,
   "id": "4b6353e2-f8c2-4dd7-aa3d-3003304663db",
   "metadata": {
    "tags": []
   },
   "outputs": [],
   "source": [
    "print(fingerprints.shape)\n",
    "print(is_active.shape)\n",
    "print(sample_ids.shape)"
   ]
  },
  {
   "cell_type": "markdown",
   "id": "5f9083d0",
   "metadata": {
    "id": "5f9083d0"
   },
   "source": [
    "## Splitting Imbalanced Data \n",
    "Our data is heavily imbalanced and it is important to balance the major and minor labels. Therefore, we do random oversampling of the minor class.\n"
   ]
  },
  {
   "cell_type": "code",
   "execution_count": null,
   "id": "3fa28a5c",
   "metadata": {
    "colab": {
     "base_uri": "https://localhost:8080/"
    },
    "executionInfo": {
     "elapsed": 10,
     "status": "ok",
     "timestamp": 1683271137131,
     "user": {
      "displayName": "Daniel Lee",
      "userId": "05387762087311196943"
     },
     "user_tz": -540
    },
    "id": "3fa28a5c",
    "outputId": "2a3b4daf-ab3e-4602-e7f0-3d9bcc22b20f",
    "tags": []
   },
   "outputs": [],
   "source": [
    "# Test out the oversample/split function\n",
    "train_x, train_y, test_x, test_y, test_ids, train_ids = \\\n",
    "    emc.train_test_split_oversample(fingerprints, is_active, \n",
    "                                    oversample_type='ros', \n",
    "                                    split_ratio=0.8, \n",
    "                                    oversample_size=0.4,\n",
    "                                    seed=0, \n",
    "                                    sample_ids=sample_ids)\n",
    "\n",
    "print(\"Number of active compounds in:\")\n",
    "print(\"Train Set = \", sum(train_y == 1))\n",
    "print(\"Test Set = \", sum(test_y == 1))\n",
    "\n",
    "print(\"Number of inactive compounds in:\")\n",
    "print(\"Train Set = \", sum(train_y == 0))\n",
    "print(\"Test Set = \", sum(test_y == 0))"
   ]
  },
  {
   "cell_type": "code",
   "execution_count": null,
   "id": "b54dc8c1-e946-40f6-a98f-6b5298649c0f",
   "metadata": {
    "tags": []
   },
   "outputs": [],
   "source": [
    "# Create small dataset for debugging\n",
    "\n",
    "# set number of major&minor labeled samples to be included in small dataset\n",
    "n_samples = 80\n",
    "\n",
    "# identify minor label\n",
    "minor_label = emc.get_minor_label(is_active)\n",
    "# get each label indices and slice into small number\n",
    "minor_label_idx_arr = np.where(is_active==minor_label)[0]\n",
    "minor_label_idx_arr = np.random.permutation(minor_label_idx_arr)[:n_samples]\n",
    "major_label_idx_arr = np.where(is_active!=minor_label)[0]\n",
    "major_label_idx_arr = np.random.permutation(major_label_idx_arr)[:n_samples]\n",
    "\n",
    "# concat both labels\n",
    "small_data = np.concatenate([fingerprints[minor_label_idx_arr], fingerprints[major_label_idx_arr]])\n",
    "small_label = np.concatenate([is_active[minor_label_idx_arr], is_active[major_label_idx_arr]])\n",
    "small_sample_ids = np.concatenate([sample_ids[minor_label_idx_arr], sample_ids[major_label_idx_arr]])\n",
    "\n",
    "# shuffle \n",
    "suffled_idx = np.random.permutation(len(small_data))\n",
    "small_data = small_data[suffled_idx]\n",
    "small_label = small_label[suffled_idx]\n",
    "small_sample_ids = small_sample_ids[suffled_idx]\n",
    "\n",
    "print('small_data shape:',small_data.shape)\n",
    "print('small_label shape:',small_label.shape)\n",
    "print('small_sample_ids shape:',small_sample_ids.shape)"
   ]
  },
  {
   "cell_type": "code",
   "execution_count": null,
   "id": "8484690d-bbc1-4f80-880b-b5056d6476a3",
   "metadata": {
    "tags": []
   },
   "outputs": [],
   "source": [
    "# Test/train split function on SMALL DEBUGGIN DATASET\n",
    "train_x, train_y, test_x, test_y = \\\n",
    "    emc.train_test_split_oversample(small_data, small_label, \n",
    "                                    oversample_type='ros', \n",
    "                                    split_ratio=0.8, \n",
    "                                    oversample_size=20,\n",
    "                                    seed=0)\n",
    "\n",
    "print(\"Number of active compounds in:\")\n",
    "print(\"Train Set = \", sum(train_y == 1))\n",
    "print(\"Test Set = \", sum(test_y == 1))\n",
    "\n",
    "print(\"Number of inactive compounds in:\")\n",
    "print(\"Train Set = \", sum(train_y == 0))\n",
    "print(\"Test Set = \", sum(test_y == 0))"
   ]
  },
  {
   "cell_type": "markdown",
   "id": "88801afb-078d-45d9-bf93-42668cce733d",
   "metadata": {},
   "source": [
    "### Model configuration"
   ]
  },
  {
   "cell_type": "code",
   "execution_count": null,
   "id": "4558ef9e-0776-4a8a-946f-21173602f287",
   "metadata": {
    "tags": []
   },
   "outputs": [],
   "source": [
    "# Configuration for both EMC and random sampling models\n",
    "config={\n",
    "    'emc_dir_path':'drug_emc_res',\n",
    "    'rand_sampling_dir_path':'drug_rand_sampling_res',\n",
    "    'n_sim':10,\n",
    "    'initial_train_ratio':0.05,    \n",
    "    # 'ros' OR 'smote' \n",
    "    'oversample_type':'smote', \n",
    "    'split_ratio':0.8,\n",
    "    # ratio in range [0.0,1.0] OR number (positive int) of samples to oversample\n",
    "    'oversample_size':836,\n",
    "    'log_freq':50\n",
    "}\n",
    "\n",
    "test_config={\n",
    "    'emc_dir_path':'emc_res',\n",
    "    'rand_sampling_dir_path':'rand_sampling_res',\n",
    "    'n_sim':3,\n",
    "    'initial_train_ratio':0.2,\n",
    "    # 'ros' OR 'smote' \n",
    "    'oversample_type':'smote', \n",
    "    'split_ratio':0.8,\n",
    "    # ratio in range [0.0,1.0] OR number (positive int) of samples to oversample\n",
    "    'oversample_size':0.2,\n",
    "    'log_freq':4\n",
    "}"
   ]
  },
  {
   "cell_type": "markdown",
   "id": "c53e45ac-5505-4597-b625-1aba363d1540",
   "metadata": {},
   "source": [
    "### Set up results directory and logger  "
   ]
  },
  {
   "cell_type": "code",
   "execution_count": null,
   "id": "907311ea-0e28-46ab-a54a-b1fe404c123f",
   "metadata": {
    "tags": []
   },
   "outputs": [],
   "source": [
    "# Make new directory to store results\n",
    "\n",
    "# emc sampling results directory\n",
    "emc_dir_path = make_unique_file_name(config['emc_dir_path'])\n",
    "os.mkdir(emc_dir_path)\n",
    "\n",
    "# random sampling results directory\n",
    "rand_sampling_dir_path = make_unique_file_name(config['rand_sampling_dir_path'])\n",
    "os.mkdir(rand_sampling_dir_path)"
   ]
  },
  {
   "cell_type": "code",
   "execution_count": null,
   "id": "2bbd54bf-3e88-448d-b3f0-0f60aaa00512",
   "metadata": {
    "tags": []
   },
   "outputs": [],
   "source": [
    "# Set up logger for emc sampling simulation\n",
    "logger_emc = logging.getLogger(__name__)\n",
    "logger_emc.setLevel(logging.INFO)\n",
    "\n",
    "formatter = logging.Formatter('%(asctime)s %(message)s', datefmt='%Y-%m-%d %H:%M')\n",
    "file_handler = logging.FileHandler(f'{emc_dir_path}/emc.log')\n",
    "file_handler.setFormatter(formatter)\n",
    "\n",
    "logger_emc.addHandler(file_handler)"
   ]
  },
  {
   "cell_type": "code",
   "execution_count": null,
   "id": "64850c9a-bc6e-48d1-b78e-ff83de59b1e4",
   "metadata": {
    "tags": []
   },
   "outputs": [],
   "source": [
    "# Set up logger for random sampling simulation\n",
    "logger_rand_sampler = logging.getLogger(__name__)\n",
    "logger_rand_sampler.setLevel(logging.INFO)\n",
    "\n",
    "formatter = logging.Formatter('%(asctime)s %(message)s', datefmt='%Y-%m-%d %H:%M')\n",
    "file_handler = logging.FileHandler(f'{rand_sampling_dir_path}/rand_sampling.log')\n",
    "file_handler.setFormatter(formatter)\n",
    "\n",
    "logger_rand_sampler.addHandler(file_handler)"
   ]
  },
  {
   "cell_type": "markdown",
   "id": "e3ca9dee",
   "metadata": {
    "id": "e3ca9dee"
   },
   "source": [
    "### Run Expected Model Change Simulation on Molecular Fingerprinting Data\n",
    "Logistic regression will be our base learner"
   ]
  },
  {
   "cell_type": "code",
   "execution_count": null,
   "id": "HUMJymQOJJGX",
   "metadata": {
    "colab": {
     "base_uri": "https://localhost:8080/"
    },
    "collapsed": true,
    "id": "HUMJymQOJJGX",
    "jupyter": {
     "outputs_hidden": true
    },
    "outputId": "87213270-97e8-429c-9d1c-f670bda652b5",
    "tags": []
   },
   "outputs": [],
   "source": [
    "# EMC simulation on small test case data\n",
    "emc.run_l_simulations_emc(small_data, small_label, sample_ids=small_sample_ids, **test_config)\n",
    "\n",
    "# EMC simulation on real data\n",
    "# emc.run_l_simulations_emc(fingerprints, is_active, sample_ids=sample_ids, **config)"
   ]
  },
  {
   "cell_type": "code",
   "execution_count": null,
   "id": "411631a6-3e70-404e-97c1-17f287e53165",
   "metadata": {
    "collapsed": true,
    "jupyter": {
     "outputs_hidden": true
    },
    "tags": []
   },
   "outputs": [],
   "source": [
    "# Random Sampling simulation on small test case data\n",
    "emc.run_n_simulations_random_sampling(small_data, small_label, **config)\n",
    "\n",
    "# Random Sampling simulation on real data\n",
    "# emc.run_n_simulations_random_sampling(fingerprints, is_active, **config)"
   ]
  },
  {
   "cell_type": "code",
   "execution_count": null,
   "id": "860a7763-6692-4cbb-8cfc-ee2def3b4eca",
   "metadata": {
    "tags": []
   },
   "outputs": [],
   "source": [
    "# Load EMC results\n",
    "n_sim_accuracy_ls, n_sim_precision_ls, n_sim_recall_ls = [],[],[]\n",
    "\n",
    "for i in range(config['n_sim']):\n",
    "    n_sim_accuracy_ls.append(np.load(f\"{config['emc_dir_path']}/{i}_sim_emc_accuracy.npy\"))\n",
    "    n_sim_precision_ls.append(np.load(f\"{config['emc_dir_path']}/{i}_sim_emc_precision.npy\"))\n",
    "    n_sim_recall_ls.append(np.load(f\"{config['emc_dir_path']}/{i}_sim_emc_recall.npy\"))"
   ]
  },
  {
   "cell_type": "code",
   "execution_count": null,
   "id": "37971f8a-a842-4cac-b406-67dedb015ed3",
   "metadata": {
    "tags": []
   },
   "outputs": [],
   "source": [
    "# Load Random Sampling results\n",
    "n_sim_accuracy_random_ls, n_sim_precision_random_ls, n_sim_recall_random_ls = [],[],[]\n",
    "\n",
    "for i in range(config['n_sim']):\n",
    "    n_sim_accuracy_random_ls.append(np.load(f\"{config['rand_sampling_dir_path']}/{i}_sim_rand_sample_accuracy.npy\"))\n",
    "    n_sim_precision_random_ls.append(np.load(f\"{config['rand_sampling_dir_path']}/{i}_sim_rand_sample_precision.npy\"))\n",
    "    n_sim_recall_random_ls.append(np.load(f\"{config['rand_sampling_dir_path']}/{i}_sim_rand_sample_recall.npy\"))"
   ]
  },
  {
   "cell_type": "code",
   "execution_count": null,
   "id": "dc61ef34-6c6e-413f-874d-0ee8518a10d4",
   "metadata": {
    "tags": []
   },
   "outputs": [],
   "source": [
    "n_updates =  len(n_sim_accuracy_ls[0])\n",
    "\n",
    "plt.figure(figsize=(10,6))\n",
    "emc.plot_metrics(n_sim_accuracy_ls, n_updates, plot_separate_sim=False, color='red', label='emc query')\n",
    "emc.plot_metrics(n_sim_accuracy_random_ls, n_updates, plot_separate_sim=False, color='blue', label='random query')\n",
    "plt.title('Accuracy')\n",
    "plt.gca().yaxis.set_major_formatter(StrMethodFormatter('{x:,.2f}'))\n",
    "plt.show()"
   ]
  },
  {
   "cell_type": "code",
   "execution_count": null,
   "id": "d17c50ac-1154-4a87-96f5-5b9b6a362081",
   "metadata": {
    "tags": []
   },
   "outputs": [],
   "source": [
    "plt.figure(figsize=(10,6))\n",
    "emc.plot_metrics(n_sim_precision_ls, n_updates, plot_separate_sim=False, color='red', label='emc query')\n",
    "emc.plot_metrics(n_sim_precision_random_ls, n_updates, plot_separate_sim=False, color='blue', label='random query')\n",
    "plt.title('Precision')\n",
    "plt.gca().yaxis.set_major_formatter(StrMethodFormatter('{x:,.2f}'))\n",
    "plt.show()"
   ]
  },
  {
   "cell_type": "code",
   "execution_count": null,
   "id": "857b6d82-e41a-4602-b61b-4f5ae4a8dcc8",
   "metadata": {
    "tags": []
   },
   "outputs": [],
   "source": [
    "plt.figure(figsize=(10,6))\n",
    "emc.plot_metrics(n_sim_recall_ls, n_updates, plot_separate_sim=False, color='red', label='emc query')\n",
    "emc.plot_metrics(n_sim_recall_random_ls, n_updates, plot_separate_sim=False, color='blue', label='random query')\n",
    "plt.title('Recall')\n",
    "plt.gca().yaxis.set_major_formatter(StrMethodFormatter('{x:,.2f}'))\n",
    "plt.show()"
   ]
  },
  {
   "cell_type": "code",
   "execution_count": null,
   "id": "ec6b6b0b-2b0e-4347-a586-9e903fb9ee76",
   "metadata": {
    "tags": []
   },
   "outputs": [],
   "source": [
    "# plot for github\n",
    "from matplotlib.ticker import FormatStrFormatter\n",
    "\n",
    "def metric_plotter(ax, x, emc_y, baseline_y, title):\n",
    "    ax.set_title(title)\n",
    "    ax.plot(x,emc_y,color='red', label='emc query')\n",
    "    ax.plot(x,baseline_y,color='blue',label='random query')\n",
    "    ax.legend()\n",
    "    ax.yaxis.set_major_formatter(FormatStrFormatter('%.2f'))\n",
    "\n",
    "n_updates =  len(n_sim_accuracy_ls[0])\n",
    "x = np.linspace(1, n_updates, n_updates)\n",
    "\n",
    "emc_avg_acc_arr = np.sum(n_sim_accuracy_ls,axis=0) / len(n_sim_accuracy_ls)\n",
    "emc_avg_prec_arr = np.sum(n_sim_precision_ls,axis=0) / len(n_sim_precision_ls)\n",
    "emc_avg_recall_arr = np.sum(n_sim_recall_ls,axis=0) / len(n_sim_recall_ls)\n",
    "\n",
    "rand_avg_acc_arr = np.sum(n_sim_accuracy_random_ls,axis=0) / len(n_sim_accuracy_random_ls)\n",
    "rand_avg_prec_arr = np.sum(n_sim_precision_random_ls,axis=0) / len(n_sim_precision_random_ls)\n",
    "rand_avg_recall_arr = np.sum(n_sim_recall_random_ls,axis=0) / len(n_sim_recall_random_ls)\n",
    "\n",
    "fig, (ax1, ax2, ax3) = plt.subplots(3,1, figsize=(5,13))\n",
    "# plot\n",
    "metric_plotter(ax1, x, emc_avg_acc_arr, rand_avg_acc_arr, title=\"Accuracy\")\n",
    "metric_plotter(ax2, x, emc_avg_prec_arr, rand_avg_prec_arr, title=\"Precision\")\n",
    "metric_plotter(ax3, x, emc_avg_recall_arr, rand_avg_recall_arr, title=\"Recall\")"
   ]
  }
 ],
 "metadata": {
  "colab": {
   "provenance": [
    {
     "file_id": "1m7vLCLi8_ipyFsZTaW3luSGCkmHjIilj",
     "timestamp": 1681265672075
    }
   ]
  },
  "kernelspec": {
   "display_name": "Python 3 (ipykernel)",
   "language": "python",
   "name": "python3"
  },
  "language_info": {
   "codemirror_mode": {
    "name": "ipython",
    "version": 3
   },
   "file_extension": ".py",
   "mimetype": "text/x-python",
   "name": "python",
   "nbconvert_exporter": "python",
   "pygments_lexer": "ipython3",
   "version": "3.11.5"
  }
 },
 "nbformat": 4,
 "nbformat_minor": 5
}
